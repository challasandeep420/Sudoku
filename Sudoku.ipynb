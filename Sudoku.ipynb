{
 "cells": [
  {
   "cell_type": "code",
   "execution_count": 1,
   "metadata": {},
   "outputs": [],
   "source": [
    "from random import sample, randint"
   ]
  },
  {
   "cell_type": "code",
   "execution_count": 2,
   "metadata": {},
   "outputs": [],
   "source": [
    "difficulty_level = {'Easy':(25, 34),\n",
    "                    'Medium':(35, 44),\n",
    "                    'Hard':(45, 54),\n",
    "                    'Insane':(55, 63)}"
   ]
  },
  {
   "cell_type": "code",
   "execution_count": 3,
   "metadata": {},
   "outputs": [],
   "source": [
    "def empties(difficulty='Easy'):\n",
    "    return randint(difficulty_level[difficulty][0], difficulty_level[difficulty][1])"
   ]
  },
  {
   "cell_type": "code",
   "execution_count": 4,
   "metadata": {},
   "outputs": [],
   "source": [
    "base  = 3\n",
    "side  = base*base\n",
    "\n",
    "def pattern(r,c): \n",
    "    return ((base*(r%base))+(r//base)+c)%side\n",
    "\n",
    "def shuffle(s): \n",
    "    return sample(s,len(s))\n",
    "\n",
    "rBase = range(base)\n",
    "\n",
    "rows = [i*base + r for i in shuffle(rBase) for r in shuffle(rBase)]\n",
    "\n",
    "cols = [i*base + c for i in shuffle(rBase) for c in shuffle(rBase)]\n",
    "\n",
    "nums  = shuffle(range(1,base*base+1))\n",
    "\n",
    "# produce board using randomized baseline pattern\n",
    "board = [[nums[pattern(r, c)] for c in cols] for r in rows]"
   ]
  },
  {
   "cell_type": "code",
   "execution_count": 5,
   "metadata": {},
   "outputs": [],
   "source": [
    "squares = side*side\n",
    "\n",
    "n_empties = empties(difficulty='Insane')"
   ]
  },
  {
   "cell_type": "code",
   "execution_count": 6,
   "metadata": {},
   "outputs": [],
   "source": [
    "for p in sample(range(squares), n_empties):\n",
    "    board[p//side][p%side] = 0\n",
    "\n",
    "# # for line in board: print(line)\n",
    "# numSize = len(str(side))\n",
    "# for line in board: print(\"[\"+\"  \".join(f\"{n or '.':{numSize}}\" for n in line)+\"]\")"
   ]
  },
  {
   "cell_type": "code",
   "execution_count": 7,
   "metadata": {},
   "outputs": [
    {
     "name": "stdout",
     "output_type": "stream",
     "text": [
      "╔═══╤═══╤═══╦═══╤═══╤═══╦═══╤═══╤═══╗\n",
      "║   │ 8 │   ║ 6 │   │   ║ 3 │   │   ║\n",
      "╟───┼───┼───╫───┼───┼───╫───┼───┼───╢\n",
      "║   │   │   ║   │   │ 8 ║ 6 │ 1 │ 9 ║\n",
      "╟───┼───┼───╫───┼───┼───╫───┼───┼───╢\n",
      "║   │   │   ║   │   │ 2 ║ 5 │ 8 │   ║\n",
      "╠═══╪═══╪═══╬═══╪═══╪═══╬═══╪═══╪═══╣\n",
      "║ 3 │   │   ║   │ 5 │   ║   │   │   ║\n",
      "╟───┼───┼───╫───┼───┼───╫───┼───┼───╢\n",
      "║   │   │ 2 ║   │   │   ║ 1 │   │   ║\n",
      "╟───┼───┼───╫───┼───┼───╫───┼───┼───╢\n",
      "║   │   │   ║ 2 │   │   ║   │ 7 │   ║\n",
      "╠═══╪═══╪═══╬═══╪═══╪═══╬═══╪═══╪═══╣\n",
      "║   │   │ 9 ║   │   │   ║   │   │ 2 ║\n",
      "╟───┼───┼───╫───┼───┼───╫───┼───┼───╢\n",
      "║ 1 │   │ 4 ║   │   │   ║   │ 5 │ 8 ║\n",
      "╟───┼───┼───╫───┼───┼───╫───┼───┼───╢\n",
      "║   │   │   ║   │   │ 5 ║   │   │   ║\n",
      "╚═══╧═══╧═══╩═══╧═══╧═══╩═══╧═══╧═══╝\n"
     ]
    }
   ],
   "source": [
    "def expandLine(line):\n",
    "    return line[0]+line[5:9].join([line[1:5]*(base-1)]*base)+line[9:13]\n",
    "line0  = expandLine(\"╔═══╤═══╦═══╗\")\n",
    "\n",
    "line1  = expandLine(\"║ . │ . ║ . ║\")\n",
    "\n",
    "line2  = expandLine(\"╟───┼───╫───╢\")\n",
    "\n",
    "line3  = expandLine(\"╠═══╪═══╬═══╣\")\n",
    "\n",
    "line4  = expandLine(\"╚═══╧═══╩═══╝\")\n",
    "\n",
    "symbol = \" 123456789\"\n",
    "nums   = [ [\"\"]+[symbol[n] for n in row] for row in board ]\n",
    "print(line0)\n",
    "for r in range(1,side+1):\n",
    "    print( \"\".join(n+s for n,s in zip(nums[r-1],line1.split(\".\"))) )\n",
    "    print([line2,line3,line4][(r%side==0)+(r%base==0)])"
   ]
  },
  {
   "cell_type": "code",
   "execution_count": 8,
   "metadata": {},
   "outputs": [],
   "source": [
    "def find_empty(bo):\n",
    "    for i in range(len(bo)):\n",
    "        for j in range(len(bo[0])):\n",
    "            if bo[i][j] == 0:\n",
    "                return (i, j)  # row, col\n",
    "\n",
    "    return None"
   ]
  },
  {
   "cell_type": "code",
   "execution_count": 9,
   "metadata": {},
   "outputs": [],
   "source": [
    "def valid(bo, num, pos):\n",
    "    # Check row\n",
    "    for i in range(len(bo[0])):\n",
    "        if bo[pos[0]][i] == num and pos[1] != i:\n",
    "            return False\n",
    "\n",
    "    # Check column\n",
    "    for i in range(len(bo)):\n",
    "        if bo[i][pos[1]] == num and pos[0] != i:\n",
    "            return False\n",
    "\n",
    "    # Check box\n",
    "    box_x = pos[1] // 3\n",
    "    box_y = pos[0] // 3\n",
    "\n",
    "    for i in range(box_y*3, box_y*3 + 3):\n",
    "        for j in range(box_x * 3, box_x*3 + 3):\n",
    "            if bo[i][j] == num and (i,j) != pos:\n",
    "                return False\n",
    "\n",
    "    return True"
   ]
  },
  {
   "cell_type": "code",
   "execution_count": 10,
   "metadata": {},
   "outputs": [],
   "source": [
    "def solve(bo):\n",
    "    find = find_empty(bo)\n",
    "    if not find:\n",
    "        return True\n",
    "    else:\n",
    "        row, col = find\n",
    "\n",
    "    for i in range(1,10):\n",
    "        if valid(bo, i, (row, col)):\n",
    "            bo[row][col] = i\n",
    "\n",
    "            if solve(bo):\n",
    "                return True\n",
    "\n",
    "            bo[row][col] = 0\n",
    "\n",
    "    return False"
   ]
  },
  {
   "cell_type": "code",
   "execution_count": 11,
   "metadata": {},
   "outputs": [
    {
     "data": {
      "text/plain": [
       "True"
      ]
     },
     "execution_count": 11,
     "metadata": {},
     "output_type": "execute_result"
    }
   ],
   "source": [
    "solve(board)"
   ]
  },
  {
   "cell_type": "code",
   "execution_count": 12,
   "metadata": {},
   "outputs": [
    {
     "name": "stdout",
     "output_type": "stream",
     "text": [
      "╔═══╤═══╤═══╦═══╤═══╤═══╦═══╤═══╤═══╗\n",
      "║ 4 │ 8 │ 5 ║ 6 │ 1 │ 9 ║ 3 │ 2 │ 7 ║\n",
      "╟───┼───┼───╫───┼───┼───╫───┼───┼───╢\n",
      "║ 2 │ 3 │ 7 ║ 5 │ 4 │ 8 ║ 6 │ 1 │ 9 ║\n",
      "╟───┼───┼───╫───┼───┼───╫───┼───┼───╢\n",
      "║ 6 │ 9 │ 1 ║ 3 │ 7 │ 2 ║ 5 │ 8 │ 4 ║\n",
      "╠═══╪═══╪═══╬═══╪═══╪═══╬═══╪═══╪═══╣\n",
      "║ 3 │ 1 │ 8 ║ 4 │ 5 │ 7 ║ 2 │ 9 │ 6 ║\n",
      "╟───┼───┼───╫───┼───┼───╫───┼───┼───╢\n",
      "║ 5 │ 7 │ 2 ║ 8 │ 9 │ 6 ║ 1 │ 4 │ 3 ║\n",
      "╟───┼───┼───╫───┼───┼───╫───┼───┼───╢\n",
      "║ 9 │ 4 │ 6 ║ 2 │ 3 │ 1 ║ 8 │ 7 │ 5 ║\n",
      "╠═══╪═══╪═══╬═══╪═══╪═══╬═══╪═══╪═══╣\n",
      "║ 8 │ 5 │ 9 ║ 1 │ 6 │ 4 ║ 7 │ 3 │ 2 ║\n",
      "╟───┼───┼───╫───┼───┼───╫───┼───┼───╢\n",
      "║ 1 │ 6 │ 4 ║ 7 │ 2 │ 3 ║ 9 │ 5 │ 8 ║\n",
      "╟───┼───┼───╫───┼───┼───╫───┼───┼───╢\n",
      "║ 7 │ 2 │ 3 ║ 9 │ 8 │ 5 ║ 4 │ 6 │ 1 ║\n",
      "╚═══╧═══╧═══╩═══╧═══╧═══╩═══╧═══╧═══╝\n"
     ]
    }
   ],
   "source": [
    "nums   = [ [\"\"]+[symbol[n] for n in row] for row in board ]\n",
    "print(line0)\n",
    "for r in range(1,side+1):\n",
    "    print( \"\".join(n+s for n,s in zip(nums[r-1],line1.split(\".\"))) )\n",
    "    print([line2,line3,line4][(r%side==0)+(r%base==0)])"
   ]
  }
 ],
 "metadata": {
  "kernelspec": {
   "display_name": "Python [conda env:kaggle]",
   "language": "python",
   "name": "conda-env-kaggle-py"
  },
  "language_info": {
   "codemirror_mode": {
    "name": "ipython",
    "version": 3
   },
   "file_extension": ".py",
   "mimetype": "text/x-python",
   "name": "python",
   "nbconvert_exporter": "python",
   "pygments_lexer": "ipython3",
   "version": "3.6.8"
  }
 },
 "nbformat": 4,
 "nbformat_minor": 2
}
